{
  "cells": [
    {
      "cell_type": "code",
      "execution_count": 1,
      "metadata": {
        "id": "N2Miq2PN4Hai",
        "colab": {
          "base_uri": "https://localhost:8080/"
        },
        "outputId": "b7069817-eec9-4912-9f28-55e39aa489e3"
      },
      "outputs": [
        {
          "output_type": "stream",
          "name": "stdout",
          "text": [
            "Collecting pymorphy2\n",
            "  Downloading pymorphy2-0.9.1-py3-none-any.whl.metadata (3.6 kB)\n",
            "Collecting dawg-python>=0.7.1 (from pymorphy2)\n",
            "  Downloading DAWG_Python-0.7.2-py2.py3-none-any.whl.metadata (7.0 kB)\n",
            "Collecting pymorphy2-dicts-ru<3.0,>=2.4 (from pymorphy2)\n",
            "  Downloading pymorphy2_dicts_ru-2.4.417127.4579844-py2.py3-none-any.whl.metadata (2.1 kB)\n",
            "Collecting docopt>=0.6 (from pymorphy2)\n",
            "  Downloading docopt-0.6.2.tar.gz (25 kB)\n",
            "  Preparing metadata (setup.py) ... \u001b[?25l\u001b[?25hdone\n",
            "Downloading pymorphy2-0.9.1-py3-none-any.whl (55 kB)\n",
            "\u001b[2K   \u001b[90m━━━━━━━━━━━━━━━━━━━━━━━━━━━━━━━━━━━━━━━━\u001b[0m \u001b[32m55.5/55.5 kB\u001b[0m \u001b[31m1.9 MB/s\u001b[0m eta \u001b[36m0:00:00\u001b[0m\n",
            "\u001b[?25hDownloading DAWG_Python-0.7.2-py2.py3-none-any.whl (11 kB)\n",
            "Downloading pymorphy2_dicts_ru-2.4.417127.4579844-py2.py3-none-any.whl (8.2 MB)\n",
            "\u001b[2K   \u001b[90m━━━━━━━━━━━━━━━━━━━━━━━━━━━━━━━━━━━━━━━━\u001b[0m \u001b[32m8.2/8.2 MB\u001b[0m \u001b[31m22.9 MB/s\u001b[0m eta \u001b[36m0:00:00\u001b[0m\n",
            "\u001b[?25hBuilding wheels for collected packages: docopt\n",
            "  Building wheel for docopt (setup.py) ... \u001b[?25l\u001b[?25hdone\n",
            "  Created wheel for docopt: filename=docopt-0.6.2-py2.py3-none-any.whl size=13706 sha256=bc18f3ab63ba7d989f48078a536e857cdf2b0fea9075a85813de50f434fdaae3\n",
            "  Stored in directory: /root/.cache/pip/wheels/fc/ab/d4/5da2067ac95b36618c629a5f93f809425700506f72c9732fac\n",
            "Successfully built docopt\n",
            "Installing collected packages: pymorphy2-dicts-ru, docopt, dawg-python, pymorphy2\n",
            "Successfully installed dawg-python-0.7.2 docopt-0.6.2 pymorphy2-0.9.1 pymorphy2-dicts-ru-2.4.417127.4579844\n"
          ]
        }
      ],
      "source": [
        "!pip install pymorphy2"
      ]
    },
    {
      "cell_type": "code",
      "source": [
        "POS_TAGS = [\n",
        "    \"adj\",\n",
        "    \"adv\",\n",
        "    \"intj\",\n",
        "    \"noun\",\n",
        "    \"propn\",\n",
        "    \"verb\",\n",
        "    \"adp\",\n",
        "    \"aux\",\n",
        "    \"cconj\",\n",
        "    \"det\",\n",
        "    \"num\",\n",
        "    \"part\",\n",
        "    \"pron\",\n",
        "    \"sconj\",\n",
        "    \"x\"\n",
        "]"
      ],
      "metadata": {
        "id": "miHxTzRCsCDA"
      },
      "execution_count": 2,
      "outputs": []
    },
    {
      "cell_type": "code",
      "execution_count": 36,
      "metadata": {
        "id": "lfc760EnLznt",
        "colab": {
          "base_uri": "https://localhost:8080/"
        },
        "outputId": "4da75963-7ef1-45b6-a7ed-c278ee3e8b0b"
      },
      "outputs": [
        {
          "output_type": "stream",
          "name": "stdout",
          "text": [
            "Введите запрос:\n",
            "ADJ ADJ ADJ\n",
            "Количество примеров: 20\n",
            "['— «Ее зовут Бэлою», — отвечал я. И точно, она была хороша: высокая, тоненькая, глаза черные, как у горной серны, так и заглядывали к вам в душу. [Герой нашего времени. Часть 1. Бэла. - rvb.ru - https://rvb.ru/19vek/lermontov/lp/text/01-02.html]', [(9, 12)]]\n",
            "['Говорили про него, что он любяит таскаться за Кубань с абреками\\xa07, и, правду сказать, рожа у него была самая разбойничья: маленький, сухой, широкоплечий... А уж ловок-то, ловок-то был, как бес. [Герой нашего времени. Часть 1. Бэла. - rvb.ru - https://rvb.ru/19vek/lermontov/lp/text/01-02.html]', [(19, 22)]]\n",
            "['Говорили про него, что он любяит таскаться за Кубань с абреками\\xa07, и, правду сказать, рожа у него была самая разбойничья: маленький, сухой, широкоплечий... А уж ловок-то, ловок-то был, как бес. [Герой нашего времени. Часть 1. Бэла. - rvb.ru - https://rvb.ru/19vek/lermontov/lp/text/01-02.html]', [(20, 23)]]\n",
            "['Говорили про него, что он любяит таскаться за Кубань с абреками\\xa07, и, правду сказать, рожа у него была самая разбойничья: маленький, сухой, широкоплечий... А уж ловок-то, ловок-то был, как бес. [Герой нашего времени. Часть 1. Бэла. - rvb.ru - https://rvb.ru/19vek/lermontov/lp/text/01-02.html]', [(21, 24)]]\n",
            "['Он был среднего роста; стройный, тонкий стан его и широкие плечи доказывали крепкое сложение, способное переносить все трудности кочевой жизни и перемены климатов, не побежденное ни развратом столичной жизни, ни бурями душевными; пыльный бархатный сертучок его, застегнутый только на две нижние пуговицы, позволял разглядеть ослепительно-чистое белье, изобличавшее привычки порядочного человека; его запачканные перчатки казались нарочно сшитыми по его маленькой аристократической руке, и когда он снял одну перчатку, то я был удивлен худобой его бледных пальцев. [Герой нашего времени. Часть 1. Максим Максимыч. - rvb.ru - https://rvb.ru/19vek/lermontov/lp/text/01-03.html]', [(31, 34)]]\n",
            "['Признаюсь, я имею сильное предубеждение противу всех слепых, кривых, глухих, немых, безногих, безруких, горбатых и проч. [Герой нашего времени. Часть 1. Журнал Печорина. Тамань. - rvb.ru - https://rvb.ru/19vek/lermontov/lp/text/01-05.html]', [(7, 10)]]\n",
            "['Признаюсь, я имею сильное предубеждение противу всех слепых, кривых, глухих, немых, безногих, безруких, горбатых и проч. [Герой нашего времени. Часть 1. Журнал Печорина. Тамань. - rvb.ru - https://rvb.ru/19vek/lermontov/lp/text/01-05.html]', [(8, 11)]]\n",
            "['Признаюсь, я имею сильное предубеждение противу всех слепых, кривых, глухих, немых, безногих, безруких, горбатых и проч. [Герой нашего времени. Часть 1. Журнал Печорина. Тамань. - rvb.ru - https://rvb.ru/19vek/lermontov/lp/text/01-05.html]', [(9, 12)]]\n",
            "['Признаюсь, я имею сильное предубеждение противу всех слепых, кривых, глухих, немых, безногих, безруких, горбатых и проч. [Герой нашего времени. Часть 1. Журнал Печорина. Тамань. - rvb.ru - https://rvb.ru/19vek/lermontov/lp/text/01-05.html]', [(10, 13)]]\n",
            "['Признаюсь, я имею сильное предубеждение противу всех слепых, кривых, глухих, немых, безногих, безруких, горбатых и проч. [Герой нашего времени. Часть 1. Журнал Печорина. Тамань. - rvb.ru - https://rvb.ru/19vek/lermontov/lp/text/01-05.html]', [(11, 14)]]\n",
            "['В эту минуту прошли к колодцу мимо нас две дамы: одна пожилая, другая молоденькая, стройная. [Герой нашего времени. Часть 2. Окончание журнала Печорина. Княжна Мери - rvb.ru - https://rvb.ru/19vek/lermontov/lp/text/01-06.html]', [(11, 14)]]\n",
            "['В эту минуту прошли к колодцу мимо нас две дамы: одна пожилая, другая молоденькая, стройная. [Герой нашего времени. Часть 2. Окончание журнала Печорина. Княжна Мери - rvb.ru - https://rvb.ru/19vek/lermontov/lp/text/01-06.html]', [(12, 15)]]\n",
            "['Печальное нам смешно, смешное грустно, а вообще, по правде, мы ко всему довольно равнодушны, кроме самих себя. [Герой нашего времени. Часть 2. Окончание журнала Печорина. Княжна Мери - rvb.ru - https://rvb.ru/19vek/lermontov/lp/text/01-06.html]', [(2, 5)]]\n",
            "['Становилось жарко; белые мохнатые тучки быстро бежали от снеговых гор, обещая грозу; голова Машука дымилась, как загашенный факел; кругом него вились и ползали, как змеи, серые клочки облаков, задержанные в своем стремлении и будто зацепившиеся за колючий его кустарник. [Герой нашего времени. Часть 2. Окончание журнала Печорина. Княжна Мери - rvb.ru - https://rvb.ru/19vek/lermontov/lp/text/01-06.html]', [(1, 4)]]\n",
            "['И точно, что касается до этой благородной боевой одежды, я совершенный денди: ни одного галуна лишнего, оружие ценное в простой отделке, мех на шапке не слишком длинный, не слишком короткий; ноговицы и черевики пригнаны со всевозможной точностью; бешмет белый, черкеска темно-бурая. [Герой нашего времени. Часть 2. Окончание журнала Печорина. Княжна Мери - rvb.ru - https://rvb.ru/19vek/lermontov/lp/text/01-06.html]', [(38, 41)]]\n",
            "['И точно, что касается до этой благородной боевой одежды, я совершенный денди: ни одного галуна лишнего, оружие ценное в простой отделке, мех на шапке не слишком длинный, не слишком короткий; ноговицы и черевики пригнаны со всевозможной точностью; бешмет белый, черкеска темно-бурая. [Герой нашего времени. Часть 2. Окончание журнала Печорина. Княжна Мери - rvb.ru - https://rvb.ru/19vek/lermontov/lp/text/01-06.html]', [(39, 42)]]\n",
            "['И в самом деле, здесь всё дышит уединением, здесь всё таинственно — и густые сени липовых аллей, склоняющихся над потоком, который с шумом и пеною, падая с плиты на плиту, прорезывает себе путь между зеленеющими горами, и ущелья, полные мглою и молчанием, которых ветви разбегаются отсюда во все стороны, и свежесть ароматического воздуха, отягощенного испарениями высоких южных трав и белой акации, — и постоянный, сладостно-усыпительный шум студеных ручьев, которые, встретясь в конце долины, бегут дружно взапуски и наконец кидаются в Подкумок; — с этой стороны ущелье шире и превращается в зеленую лощину: по ней вьется пыльная дорога. [Герой нашего времени. Часть 2. Окончание журнала Печорина. Княжна Мери - rvb.ru - https://rvb.ru/19vek/lermontov/lp/text/01-06.html]', [(61, 64)]]\n",
            "['Горные речки, самые мелкие, опасны, особенно тем, что дно их — совершенный калейдоскоп: каждый день от напора волн оно изменяется; где был вчера камень, там нынче яма. [Герой нашего времени. Часть 2. Окончание журнала Печорина. Княжна Мери - rvb.ru - https://rvb.ru/19vek/lermontov/lp/text/01-06.html]', [(2, 5)]]\n",
            "['Все они таковы, даже самые добрые, самые умные!.. [Герой нашего времени. Часть 2. Окончание журнала Печорина. Княжна Мери - rvb.ru - https://rvb.ru/19vek/lermontov/lp/text/01-06.html]', [(4, 7)]]\n",
            "['Все они таковы, даже самые добрые, самые умные!.. [Герой нашего времени. Часть 2. Окончание журнала Печорина. Княжна Мери - rvb.ru - https://rvb.ru/19vek/lermontov/lp/text/01-06.html]', [(5, 8)]]\n"
          ]
        }
      ],
      "source": [
        "import csv\n",
        "import pymorphy2\n",
        "\n",
        "morph = pymorphy2.MorphAnalyzer()\n",
        "\n",
        "\n",
        "class SearchEngineCSV:\n",
        "    def __init__(self, csv_file):\n",
        "        self.sentences = []\n",
        "        self.tokens = []\n",
        "        self.lemmas = []\n",
        "        self.pos_tags = []\n",
        "        self.chapters = []\n",
        "\n",
        "        with open(csv_file, newline='', encoding='utf-8') as file:\n",
        "            reader = csv.reader(file)\n",
        "            next(reader)\n",
        "            for row in reader:\n",
        "                self.sentences.append(row[0])\n",
        "                self.tokens.append([token.lower() for token in row[1].split(';')])  # Токены в нижнем регистре\n",
        "                self.lemmas.append([lemma.lower() for lemma in row[2].split(';')])  # Леммы в нижнем регистре\n",
        "                self.pos_tags.append(row[3].split(';'))\n",
        "                self.chapters.append(row[4])\n",
        "\n",
        "    def match_token(self, token, word, lemma, pos):\n",
        "        token = token.lower()  # Приведение токена к нижнему регистру\n",
        "        if '\"' in token:\n",
        "            return token.strip('\"') == word\n",
        "\n",
        "        if '+' in token:\n",
        "            query_word, query_pos = token.split('+')\n",
        "            return lemma == query_word and pos == query_pos\n",
        "\n",
        "        if token in POS_TAGS:\n",
        "            return pos.lower() == token\n",
        "\n",
        "        return lemma == morph.parse(token)[0].normal_form\n",
        "\n",
        "    def match_sequence(self, query_tokens, words, lemmas, pos_tags):\n",
        "        if '\"' in query_tokens[0]:\n",
        "            query_tokens[1] = query_tokens[1] + '\"'\n",
        "        for j, query_token in enumerate(query_tokens):\n",
        "            query_token = query_token.lower()  # Приведение токена запроса к нижнему регистру\n",
        "            if query_token in POS_TAGS:\n",
        "                if pos_tags[j].lower() != query_token:\n",
        "                    return False\n",
        "            else:\n",
        "                if not self.match_token(query_token, words[j], lemmas[j], pos_tags[j]):\n",
        "                    return False\n",
        "        return True\n",
        "\n",
        "    def search(self, query):\n",
        "        query_tokens = query.lower().split()  # Приведение запроса к нижнему регистру\n",
        "\n",
        "        matches = []\n",
        "        for idx, sentence in enumerate(self.sentences):\n",
        "            words = self.tokens[idx]\n",
        "            lemmas = self.lemmas[idx]\n",
        "            pos_tags = self.pos_tags[idx]\n",
        "            if len(words) != len(lemmas) or len(words) != len(pos_tags):  # проверка, что количество токенов, лемм и тегов частей речи одинаковое\n",
        "                continue\n",
        "\n",
        "            # Поиск последовательности токенов в предложении\n",
        "            for i in range(len(words) - len(query_tokens) + 1):\n",
        "                formatted_sentence = \"\"\n",
        "                matches_in_sent = []\n",
        "                # Проверка последовательности для n-граммы\n",
        "                if self.match_sequence(query_tokens, words[i:i+len(query_tokens)], lemmas[i:i+len(query_tokens)], pos_tags[i:i+len(query_tokens)]):\n",
        "                    # Форматируем предложение с источником\n",
        "                    source_info = f\"[{self.chapters[idx]}]\"\n",
        "                    if formatted_sentence == \"\":\n",
        "                        formatted_sentence = f\"{sentence} {source_info}\"\n",
        "                    matches_in_sent.append((i, i + len(query_tokens)))  # информация о том, какие слова - ответ на запрос (номер первого слова последовательности и первого слова после неё)\n",
        "                if formatted_sentence != \"\":\n",
        "                    matches.append([formatted_sentence, matches_in_sent])  # сначала строка \"текст предложения [номер главы]\", потом список мест, в которых слова, отвечающие на запрос\n",
        "\n",
        "        return matches\n",
        "\n",
        "\n",
        "# Пример использования\n",
        "csv_file = '/content/corpus_data_with_labels.csv'  # Путь к файлу\n",
        "search_engine = SearchEngineCSV(csv_file)\n",
        "\n",
        "# Код для запроса и вывода результатов\n",
        "print('Введите запрос:')\n",
        "for_search = input()\n",
        "results = search_engine.search(for_search)\n",
        "print(f'Количество примеров: {len(results)}')\n",
        "set_results = {}\n",
        "for result in results:\n",
        "    print(result)"
      ]
    },
    {
      "cell_type": "code",
      "execution_count": null,
      "metadata": {
        "id": "1hX4NXHLQtmq"
      },
      "outputs": [],
      "source": [
        "# Примеры запросов\n",
        "print(search_engine.search('сказать'))  # Любая форма слова \"сказать\"\n",
        "print(search_engine.search('\"меня\"'))  # Точная форма \"меня\"\n",
        "print(search_engine.search('человек+NOUN'))  # Лемма \"человек\" с POS-тегом \"S\"\n",
        "print(search_engine.search('NOUN ADV VERB'))  # Существительное, глагол, наречие в последовательности"
      ]
    },
    {
      "cell_type": "code",
      "source": [],
      "metadata": {
        "id": "RA_FxO2g1-vH"
      },
      "execution_count": null,
      "outputs": []
    }
  ],
  "metadata": {
    "colab": {
      "provenance": []
    },
    "kernelspec": {
      "display_name": "Python 3",
      "name": "python3"
    },
    "language_info": {
      "name": "python"
    }
  },
  "nbformat": 4,
  "nbformat_minor": 0
}