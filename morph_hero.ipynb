{
  "nbformat": 4,
  "nbformat_minor": 0,
  "metadata": {
    "colab": {
      "provenance": [],
      "authorship_tag": "ABX9TyPRWwc5Hvjem+jibTNFyWtZ"
    },
    "kernelspec": {
      "name": "python3",
      "display_name": "Python 3"
    },
    "language_info": {
      "name": "python"
    }
  },
  "cells": [
    {
      "cell_type": "code",
      "source": [
        "!pip install pymystem3\n",
        "!pip install nltk"
      ],
      "metadata": {
        "colab": {
          "base_uri": "https://localhost:8080/"
        },
        "collapsed": true,
        "id": "tyoco4DwndA9",
        "outputId": "73118ddf-e6d3-40c3-95e5-b30320db9cb6"
      },
      "execution_count": null,
      "outputs": [
        {
          "output_type": "stream",
          "name": "stdout",
          "text": [
            "Requirement already satisfied: pymystem3 in /usr/local/lib/python3.10/dist-packages (0.2.0)\n",
            "Requirement already satisfied: requests in /usr/local/lib/python3.10/dist-packages (from pymystem3) (2.32.3)\n",
            "Requirement already satisfied: charset-normalizer<4,>=2 in /usr/local/lib/python3.10/dist-packages (from requests->pymystem3) (3.4.0)\n",
            "Requirement already satisfied: idna<4,>=2.5 in /usr/local/lib/python3.10/dist-packages (from requests->pymystem3) (3.10)\n",
            "Requirement already satisfied: urllib3<3,>=1.21.1 in /usr/local/lib/python3.10/dist-packages (from requests->pymystem3) (2.2.3)\n",
            "Requirement already satisfied: certifi>=2017.4.17 in /usr/local/lib/python3.10/dist-packages (from requests->pymystem3) (2024.8.30)\n",
            "Requirement already satisfied: Natasha in /usr/local/lib/python3.10/dist-packages (1.6.0)\n",
            "Requirement already satisfied: pymorphy2 in /usr/local/lib/python3.10/dist-packages (from Natasha) (0.9.1)\n",
            "Requirement already satisfied: razdel>=0.5.0 in /usr/local/lib/python3.10/dist-packages (from Natasha) (0.5.0)\n",
            "Requirement already satisfied: navec>=0.9.0 in /usr/local/lib/python3.10/dist-packages (from Natasha) (0.10.0)\n",
            "Requirement already satisfied: slovnet>=0.6.0 in /usr/local/lib/python3.10/dist-packages (from Natasha) (0.6.0)\n",
            "Requirement already satisfied: yargy>=0.16.0 in /usr/local/lib/python3.10/dist-packages (from Natasha) (0.16.0)\n",
            "Requirement already satisfied: ipymarkup>=0.8.0 in /usr/local/lib/python3.10/dist-packages (from Natasha) (0.9.0)\n",
            "Requirement already satisfied: intervaltree>=3 in /usr/local/lib/python3.10/dist-packages (from ipymarkup>=0.8.0->Natasha) (3.1.0)\n",
            "Requirement already satisfied: numpy in /usr/local/lib/python3.10/dist-packages (from navec>=0.9.0->Natasha) (1.26.4)\n",
            "Requirement already satisfied: dawg-python>=0.7.1 in /usr/local/lib/python3.10/dist-packages (from pymorphy2->Natasha) (0.7.2)\n",
            "Requirement already satisfied: pymorphy2-dicts-ru<3.0,>=2.4 in /usr/local/lib/python3.10/dist-packages (from pymorphy2->Natasha) (2.4.417127.4579844)\n",
            "Requirement already satisfied: docopt>=0.6 in /usr/local/lib/python3.10/dist-packages (from pymorphy2->Natasha) (0.6.2)\n",
            "Requirement already satisfied: sortedcontainers<3.0,>=2.0 in /usr/local/lib/python3.10/dist-packages (from intervaltree>=3->ipymarkup>=0.8.0->Natasha) (2.4.0)\n"
          ]
        }
      ]
    },
    {
      "cell_type": "code",
      "execution_count": null,
      "metadata": {
        "colab": {
          "base_uri": "https://localhost:8080/"
        },
        "collapsed": true,
        "id": "aSxINcVcmBqd",
        "outputId": "b9575688-73f4-4a62-f90d-a8f078f1abc5"
      },
      "outputs": [
        {
          "output_type": "stream",
          "name": "stderr",
          "text": [
            "[nltk_data] Downloading package punkt to /root/nltk_data...\n",
            "[nltk_data]   Package punkt is already up-to-date!\n"
          ]
        },
        {
          "output_type": "execute_result",
          "data": {
            "text/plain": [
              "True"
            ]
          },
          "metadata": {},
          "execution_count": 57
        }
      ],
      "source": [
        "from string import punctuation\n",
        "import re\n",
        "import csv\n",
        "import sys\n",
        "from pymystem3 import Mystem\n",
        "import nltk\n",
        "nltk.download('punkt')"
      ]
    },
    {
      "cell_type": "markdown",
      "source": [
        "Открываю файл text.csv и разделяю на предложения, сохраняю в sentences"
      ],
      "metadata": {
        "id": "6931jeQhBalL"
      }
    },
    {
      "cell_type": "code",
      "source": [
        "csv.field_size_limit(sys.maxsize)\n",
        "sentences = []\n",
        "with open(\"text.csv\") as f:\n",
        "    reader = csv.reader(f)\n",
        "    for row in reader:\n",
        "        clear_txt = re.sub(\"\\*.*(\\(Примеч. Лермонтова\\)|Ред). \", \"\", row[0])  # убираем Примечания, потому что они посреди других предложений находятся\n",
        "        sentences.extend([(i.strip(), row[1]) for i in nltk.sent_tokenize(clear_txt)])"
      ],
      "metadata": {
        "id": "QGTRfTEUo0r0"
      },
      "execution_count": null,
      "outputs": []
    },
    {
      "cell_type": "markdown",
      "source": [
        "Определяю морфологию с помощью mystem.\n",
        "Сохраняю данный в следующем формате для поиска:\n",
        "\n",
        "Мама мыла раму., (мама; мыла; раму), (мама; мыть; рама), (Noun; Verb; Noun), Про мытьё рамы. Глава 1\n",
        "\n",
        "(Скобки и пробелы только чтобы было лучше понятно здесь, их не будет в файле)"
      ],
      "metadata": {
        "id": "e9l-WTZoBmQh"
      }
    },
    {
      "cell_type": "code",
      "source": [
        "sentences.pop(0) # там строка заголовка"
      ],
      "metadata": {
        "colab": {
          "base_uri": "https://localhost:8080/"
        },
        "id": "1Mlhqm6EDXqx",
        "outputId": "2493d2df-3020-4971-e214-604a960e27df"
      },
      "execution_count": null,
      "outputs": [
        {
          "output_type": "execute_result",
          "data": {
            "text/plain": [
              "('Text', 'Part')"
            ]
          },
          "metadata": {},
          "execution_count": 101
        }
      ]
    },
    {
      "cell_type": "code",
      "source": [
        "punctuation += '«»—'"
      ],
      "metadata": {
        "id": "v2ojWbWzKa4w"
      },
      "execution_count": null,
      "outputs": []
    },
    {
      "cell_type": "code",
      "source": [
        "mystem = Mystem()\n",
        "rows = []\n",
        "for sent, chapter in sentences:\n",
        "    words = []\n",
        "    lemmas = []\n",
        "    pos = []\n",
        "    words_analyze = mystem.analyze(sent)\n",
        "    for i in words_analyze:\n",
        "        if i['text'].strip() != \" \" and i['text'].strip() not in punctuation:\n",
        "            words.append(i['text'].lower())\n",
        "            if 'analysis' in i and len(i['analysis']) != 0:\n",
        "                lemmas.append(i['analysis'][0].get('lex', \"\"))\n",
        "                pos.append(i['analysis'][0].get('gr', '').split('=')[0].split(\",\")[0])  # два split, потому что после части речи м. б. = или ,\n",
        "            else:\n",
        "                lemmas.append(i['text'].lower())\n",
        "                pos.append('')\n",
        "    words_line = \";\".join(words)\n",
        "    lemmas_line = ';'.join(lemmas)\n",
        "    pos_line = ';'.join(pos)\n",
        "    rows.append([sent, words_line, lemmas_line, pos_line, chapter])\n"
      ],
      "metadata": {
        "id": "bc7CNOGmnJoR"
      },
      "execution_count": null,
      "outputs": []
    },
    {
      "cell_type": "code",
      "source": [
        "with open(\"corpus_data.csv\", 'w') as f:\n",
        "    writer = csv.writer(f)\n",
        "    writer.writerow(['Sentence', 'Tokens', 'Lemmas', 'POS', 'Chapter'])\n",
        "    writer.writerows(rows)"
      ],
      "metadata": {
        "id": "_tor4SpcLQtc"
      },
      "execution_count": null,
      "outputs": []
    }
  ]
}